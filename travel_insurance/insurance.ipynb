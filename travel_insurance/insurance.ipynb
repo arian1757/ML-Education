{
 "cells": [
  {
   "cell_type": "code",
   "execution_count": 541,
   "metadata": {},
   "outputs": [],
   "source": [
    "import pandas as pd\n",
    "import numpy as np\n",
    "from sklearn.preprocessing import LabelEncoder\n",
    "import seaborn as sns\n",
    "import matplotlib.pyplot as plt\n",
    "import torch\n",
    "from torch.utils.data import Dataset, DataLoader, random_split\n",
    "from sklearn.preprocessing import MinMaxScaler\n",
    "import torch.nn as nn\n",
    "import torch.optim as optim\n",
    "\n"
   ]
  },
  {
   "cell_type": "code",
   "execution_count": 542,
   "metadata": {},
   "outputs": [],
   "source": [
    "df = pd.read_csv('train.csv')"
   ]
  },
  {
   "cell_type": "code",
   "execution_count": 543,
   "metadata": {},
   "outputs": [
    {
     "name": "stdout",
     "output_type": "stream",
     "text": [
      "<class 'pandas.core.frame.DataFrame'>\n",
      "RangeIndex: 1590 entries, 0 to 1589\n",
      "Data columns (total 10 columns):\n",
      " #   Column               Non-Null Count  Dtype \n",
      "---  ------               --------------  ----- \n",
      " 0   CustomerId           1590 non-null   object\n",
      " 1   Age                  1590 non-null   int64 \n",
      " 2   EmploymentType       1590 non-null   object\n",
      " 3   GraduateOrNot        1590 non-null   object\n",
      " 4   AnnualIncome         1590 non-null   int64 \n",
      " 5   FamilyMembers        1590 non-null   int64 \n",
      " 6   ChronicDiseases      1590 non-null   int64 \n",
      " 7   FrequentFlyer        1590 non-null   object\n",
      " 8   EverTravelledAbroad  1590 non-null   object\n",
      " 9   TravelInsurance      1590 non-null   object\n",
      "dtypes: int64(4), object(6)\n",
      "memory usage: 124.3+ KB\n"
     ]
    }
   ],
   "source": [
    "df.info()"
   ]
  },
  {
   "cell_type": "markdown",
   "metadata": {},
   "source": [
    "# Data Preprocessing"
   ]
  },
  {
   "cell_type": "code",
   "execution_count": 544,
   "metadata": {},
   "outputs": [],
   "source": [
    "scaler_ob = MinMaxScaler()\n",
    "numeric_features = ['Age', 'AnnualIncome','FamilyMembers']\n",
    "dummies_features = ['EmploymentType']\n",
    "categorical_features = ['GraduateOrNot','FrequentFlyer','EverTravelledAbroad','TravelInsurance']\n",
    "def data_preprocessing(df,scaler=scaler_ob,numeric_features=numeric_features,dummies_features=dummies_features,\n",
    "                       categorical_features=categorical_features, test=False ):\n",
    "    if not test:\n",
    "        global scaler_ob\n",
    "        df[numeric_features] = scaler.fit_transform(df[numeric_features])\n",
    "        scaler_ob = scaler\n",
    "    else:\n",
    "        df[numeric_features] = scaler.transform(df[numeric_features])\n",
    "        categorical_features.remove('TravelInsurance')\n",
    "        \n",
    "\n",
    "\n",
    "    df = pd.get_dummies(df, columns=dummies_features)\n",
    "    df[categorical_features] = df[categorical_features].replace({'Yes': 1, 'No': 0})\n",
    "    df = df.drop(columns='CustomerId')\n",
    "    return df\n",
    "        \n",
    "    "
   ]
  },
  {
   "cell_type": "code",
   "execution_count": 545,
   "metadata": {},
   "outputs": [],
   "source": [
    "df_preprocessed = data_preprocessing(df)"
   ]
  },
  {
   "cell_type": "markdown",
   "metadata": {},
   "source": [
    "# make Dataset"
   ]
  },
  {
   "cell_type": "code",
   "execution_count": 546,
   "metadata": {},
   "outputs": [],
   "source": [
    "features = df_preprocessed.loc[:, ~df.columns.isin(['TravelInsurance'])]\n",
    "\n",
    "labels = df_preprocessed.loc[:,'TravelInsurance']"
   ]
  },
  {
   "cell_type": "code",
   "execution_count": 547,
   "metadata": {},
   "outputs": [],
   "source": [
    "class CustomDataset(Dataset):\n",
    "    def __init__(self, features, labels=None ):\n",
    "        self.features = features\n",
    "        self.labels = labels\n",
    "        \n",
    "    def __len__(self):\n",
    "        return len(self.features)\n",
    "    def __getitem__(self, index):\n",
    "        features =  torch.tensor(self.features.iloc[index].values)\n",
    "        if self.labels is not None:\n",
    "            labels = torch.tensor(self.labels.iloc[index])\n",
    "            return features.float(),labels.float()\n",
    "         \n",
    "        return features.float()\n",
    "    \n",
    "dataset = CustomDataset(features, labels)\n"
   ]
  },
  {
   "cell_type": "code",
   "execution_count": 548,
   "metadata": {},
   "outputs": [],
   "source": [
    "train_size = int(0.75 * len(dataset))\n",
    "dev_size = int(0.125 * len(dataset))\n",
    "test_size = len(dataset) - train_size - dev_size\n",
    "train_dataset, dev_dataset, test_dataset = random_split(dataset, [train_size, dev_size,test_size ])"
   ]
  },
  {
   "cell_type": "code",
   "execution_count": 549,
   "metadata": {},
   "outputs": [],
   "source": [
    "train_dataloader = DataLoader(train_dataset, batch_size=32, shuffle = True)\n",
    "dev_dataloader = DataLoader(dev_dataset, batch_size=32, shuffle = False)\n",
    "test_dataloader = DataLoader(test_dataset, batch_size=32, shuffle = False)"
   ]
  },
  {
   "cell_type": "code",
   "execution_count": 550,
   "metadata": {},
   "outputs": [
    {
     "name": "stdout",
     "output_type": "stream",
     "text": [
      "Feature batch shape: torch.Size([32, 9])\n",
      "Labels batch shape: torch.Size([32])\n"
     ]
    }
   ],
   "source": [
    "train_features, train_labels = next(iter(train_dataloader))\n",
    "print(f\"Feature batch shape: {train_features.size()}\")\n",
    "print(f\"Labels batch shape: {train_labels.size()}\")\n"
   ]
  },
  {
   "cell_type": "markdown",
   "metadata": {},
   "source": [
    "# Build Model\n"
   ]
  },
  {
   "cell_type": "code",
   "execution_count": 551,
   "metadata": {},
   "outputs": [],
   "source": [
    "class InsuranceModel(nn.Module):\n",
    "    def __init__(self,input_dim):\n",
    "        super().__init__()\n",
    "        self.linear_stack = nn.Sequential(\n",
    "            nn.Linear(input_dim,128),\n",
    "            nn.ReLU(),\n",
    "            nn.Linear(128,64),\n",
    "            nn.ReLU(),\n",
    "            nn.Linear(64,32),\n",
    "            nn.ReLU(),\n",
    "            nn.Linear(32,16),\n",
    "            nn.ReLU(),\n",
    "            nn.Linear(16,8),\n",
    "            nn.ReLU(),\n",
    "            nn.Linear(8,1),\n",
    "            nn.Sigmoid()\n",
    "        )\n",
    "    def forward(self, x):\n",
    "        x = self.linear_stack(x)\n",
    "        return x\n",
    "inpu_dim = features.shape[1]\n",
    "model = InsuranceModel(inpu_dim)"
   ]
  },
  {
   "cell_type": "code",
   "execution_count": 552,
   "metadata": {},
   "outputs": [
    {
     "data": {
      "text/plain": [
       "InsuranceModel(\n",
       "  (linear_stack): Sequential(\n",
       "    (0): Linear(in_features=9, out_features=128, bias=True)\n",
       "    (1): ReLU()\n",
       "    (2): Linear(in_features=128, out_features=64, bias=True)\n",
       "    (3): ReLU()\n",
       "    (4): Linear(in_features=64, out_features=32, bias=True)\n",
       "    (5): ReLU()\n",
       "    (6): Linear(in_features=32, out_features=16, bias=True)\n",
       "    (7): ReLU()\n",
       "    (8): Linear(in_features=16, out_features=8, bias=True)\n",
       "    (9): ReLU()\n",
       "    (10): Linear(in_features=8, out_features=1, bias=True)\n",
       "    (11): Sigmoid()\n",
       "  )\n",
       ")"
      ]
     },
     "execution_count": 552,
     "metadata": {},
     "output_type": "execute_result"
    }
   ],
   "source": [
    "model"
   ]
  },
  {
   "cell_type": "code",
   "execution_count": 553,
   "metadata": {},
   "outputs": [],
   "source": [
    "lr = 0.001\n",
    "epochs = 150\n",
    "loss_fn = nn.BCELoss()\n",
    "optimizer = optim.Adam(model.parameters(), lr)"
   ]
  },
  {
   "cell_type": "code",
   "execution_count": 554,
   "metadata": {},
   "outputs": [],
   "source": [
    "class EarlyStopper:\n",
    "    def __init__(self, patience=3):\n",
    "        self.patience = patience\n",
    "        self.counter = 0\n",
    "        self.best_accuracy = 0\n",
    "\n",
    "    def early_stop(self, accuracy):\n",
    "        if accuracy > self.best_accuracy:\n",
    "            self.best_accuracy = accuracy\n",
    "            self.counter = 0\n",
    "        elif accuracy >= self.best_accuracy:\n",
    "            self.counter += 1\n",
    "            if self.counter >= self.patience:\n",
    "                return True\n",
    "        return False\n",
    "early_stopper = EarlyStopper(patience=15)"
   ]
  },
  {
   "cell_type": "code",
   "execution_count": null,
   "metadata": {},
   "outputs": [],
   "source": [
    "def train_loop(dataloader, model, loss_fn, optimizer, epoch):\n",
    "    model.train()\n",
    "    \n",
    "    running_loss = 0\n",
    "    for inputs, labels in dataloader:\n",
    "        \n",
    "        optimizer.zero_grad()\n",
    "        outputs = model(inputs)\n",
    "        loss = loss_fn(outputs.squeeze(), labels)\n",
    "        loss.backward()\n",
    "        optimizer.step()\n",
    "        running_loss += loss.item()\n",
    "    print(f\"Epoch {epoch+1}/{epochs}, Loss: {running_loss/len(dataloader):.4f}\")\n",
    "\n",
    "def test_loop(dataloader, model, predict=False):\n",
    "    model.eval()\n",
    "    correct = 0\n",
    "    total = 0\n",
    "    predictions = []\n",
    "    with torch.no_grad():\n",
    "        for data in dataloader:\n",
    "            if predict:\n",
    "                inputs = data\n",
    "                outputs = model(inputs)\n",
    "                predicted = outputs.squeeze()\n",
    "                predictions.extend(predicted.tolist())\n",
    "            else:\n",
    "                inputs, labels = data\n",
    "                outputs = model(inputs)\n",
    "                predicted = (outputs.squeeze() > 0.5).float()\n",
    "                total += labels.size(0)\n",
    "                correct += (predicted == labels).sum().item()\n",
    "        \n",
    "        if predict:\n",
    "            return predictions\n",
    "        else:\n",
    "            accuracy = 100 * correct / total\n",
    "            print(f'Accuracy: {accuracy:.2f}%')\n",
    "            return accuracy\n",
    "\n",
    "\n",
    "for t in range (epochs):\n",
    "    train_loop(train_dataloader, model, loss_fn, optimizer, t)\n",
    "    accuracy = test_loop(dev_dataloader, model)\n",
    "    if early_stopper.early_stop(accuracy):\n",
    "        print('stopping training')             \n",
    "        break\n"
   ]
  },
  {
   "cell_type": "code",
   "execution_count": null,
   "metadata": {},
   "outputs": [],
   "source": [
    "epochs = 150\n",
    "final_train_dataloader = DataLoader(dataset, batch_size=32, shuffle = True)\n",
    "for t in range (epochs):\n",
    "    train_loop(final_train_dataloader, model, loss_fn, optimizer, t)\n",
    "    "
   ]
  },
  {
   "cell_type": "code",
   "execution_count": 557,
   "metadata": {},
   "outputs": [],
   "source": [
    "df_test = pd.read_csv('test.csv')\n",
    "df_test_preprocessed = data_preprocessing(df_test, test=True)\n",
    "dataset = CustomDataset(df_test_preprocessed)\n"
   ]
  },
  {
   "cell_type": "code",
   "execution_count": 558,
   "metadata": {},
   "outputs": [],
   "source": [
    "final_dataset = DataLoader(dataset, batch_size=32)"
   ]
  },
  {
   "cell_type": "code",
   "execution_count": 559,
   "metadata": {},
   "outputs": [],
   "source": [
    "answer = test_loop(final_dataset, model, predict=True)\n",
    "df_test['prediction']= answer"
   ]
  }
 ],
 "metadata": {
  "kernelspec": {
   "display_name": "venv",
   "language": "python",
   "name": "python3"
  },
  "language_info": {
   "codemirror_mode": {
    "name": "ipython",
    "version": 3
   },
   "file_extension": ".py",
   "mimetype": "text/x-python",
   "name": "python",
   "nbconvert_exporter": "python",
   "pygments_lexer": "ipython3",
   "version": "3.10.10"
  }
 },
 "nbformat": 4,
 "nbformat_minor": 2
}
